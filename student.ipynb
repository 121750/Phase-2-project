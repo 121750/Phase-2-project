{
 "cells": [
  {
   "attachments": {},
   "cell_type": "markdown",
   "metadata": {},
   "source": [
    "## Final Project Submission\n",
    "\n",
    "Please fill out:\n",
    "* Student name: **Sandra Luyali**\n",
    "* Student pace: self paced / part time / full time - **Full Time**\n",
    "* Scheduled project review date/time: \n",
    "* Instructor name: \n",
    "* Blog post URL:\n"
   ]
  },
  {
   "attachments": {},
   "cell_type": "markdown",
   "metadata": {},
   "source": [
    "# Analyzing House Sales in a Northwestern County: Predicting Home Values and Guiding Renovation Decisions\n",
    "\n",
    "\n",
    "# Step 1: Business Understanding:\n",
    "### Title: Analyzing House Sales in a Northwestern County: Predicting Home Values and Guiding Renovation Decisions\n",
    "\n",
    "#### Introduction:\n",
    "The real-world problem that this project aims to address is the need for homeowners to make informed decisions about home renovations that can potentially increase the estimated value of their properties. Many homeowners are interested in knowing which renovations are worth investing in and how much they can expect their home value to increase as a result. This project aims to provide valuable insights to homeowners and assist a real estate agency in guiding them through this decision-making process.\n",
    "\n",
    "#### Stakeholders:\n",
    "1. Homeowners: The primary stakeholders of this project are homeowners who are considering renovations to increase their home value. By utilizing the findings of the analysis, homeowners can gain guidance on which renovation projects are most likely to yield a significant return on investment. They can make informed decisions based on the estimated increase in their home value and prioritize renovations accordingly.\n",
    "\n",
    "2. Real Estate Agency: The real estate agency acts as a secondary stakeholder. By leveraging the insights and analysis provided by this project, the agency can enhance its services to homeowners. The agency can offer expert advice and recommendations to homeowners regarding home renovations, positioning themselves as a trusted resource. This can improve customer satisfaction, increase the agency's reputation, and potentially attract more clients.\n",
    "\n",
    "#### Conclusion:\n",
    "The implications of this project for the real-world problem and stakeholders are significant. By analyzing house sales data and using multiple linear regression modeling, this project provides homeowners with valuable information on the potential impact of home renovations on the estimated value of their properties. Homeowners can make data-driven decisions, maximize their return on investment, and avoid unnecessary expenses on renovations that may not yield substantial value. The real estate agency can leverage this analysis to offer tailored advice, strengthen their customer relationships, and establish themselves as experts in the market.\n",
    "\n",
    "Throughout the project, data visualization and analysis techniques have been employed to enhance the understanding and storytelling of the results. By incorporating visualizations such as histograms, scatter plots, and heatmaps, the findings are presented in an engaging and informative manner.\n",
    "\n",
    "By addressing the business understanding section in this way, you provide a clear overview of the project's value, the real-world problem it aims to solve, identify the stakeholders, and summarize the implications of the project."
   ]
  },
  {
   "attachments": {},
   "cell_type": "markdown",
   "metadata": {},
   "source": [
    "# Step 2: Data Understanding:\n",
    "Title: \"Analyzing House Sales in a Northwestern County: Predicting Home Values and Guiding Renovation Decisions\"\n",
    "\n",
    "### Data Sources and Suitability:\n",
    "The dataset used for this project is the King County House Sales dataset, which can be found in the `kc_house_data.csv` file. The dataset provides information about various aspects of house sales in a northwestern county. It includes features such as the number of bedrooms, bathrooms, square footage, condition, and location.\n",
    "\n",
    "The data are suitable for the project for several reasons:\n",
    "1. Relevance: The dataset contains a wide range of features related to house sales, including both numerical and categorical variables. These features provide valuable information for analyzing the factors influencing home values and guiding renovation decisions.\n",
    "\n",
    "2. Real-world data: The dataset represents real-world house sales in a specific county, making it a suitable source for understanding the housing market in that area. The data reflect actual transactions, providing insights into market trends, pricing dynamics, and buyer preferences.\n",
    "\n",
    "#### Size of the Dataset and Descriptive Statistics:\n",
    "To better understand the dataset, we can examine its size and calculate descriptive statistics for the features used in the analysis. The dataset consists of rows and columns.\n",
    "\n",
    "Descriptive statistics, such as mean, standard deviation, minimum, maximum, and quartiles, can be computed for numerical features like bedrooms, bathrooms, square footage, and price. These statistics provide insights into the central tendencies, variations, and distributions of the features, aiding in the understanding of the data's characteristics.\n",
    "\n",
    "#### Justification of Feature Inclusion:\n",
    "Features should be included based on their relevance and properties for the project. For example, features like the number of bedrooms and bathrooms are essential as they directly influence a home's value. Square footage is another important feature as it provides information about the size of the property, which is often correlated with its value. Other relevant features could include the condition of the house or categorical variables indicating the neighborhood.\n",
    "\n",
    "Limitations of the Data:\n",
    "It is essential to identify and acknowledge any limitations of the dataset that might have implications for the project. Some potential limitations could include:\n",
    "- Missing data: The dataset might have missing values in certain features, requiring appropriate handling during the data preprocessing phase.\n",
    "- Limited timeframe: The dataset may cover a specific timeframe, which could affect the generalizability of the analysis to the current housing market.\n",
    "- Geographical scope: The dataset focuses on a specific northwestern county, and the findings may not be directly applicable to other regions or counties.\n",
    "\n",
    "By addressing these aspects of data understanding, you provide a clear description of the data sources, explain their suitability for the project, present the size of the dataset and descriptive statistics, justify the inclusion of relevant features, and identify any limitations that may impact the project."
   ]
  },
  {
   "attachments": {},
   "cell_type": "markdown",
   "metadata": {},
   "source": [
    "# Step 3: Data Preparation."
   ]
  },
  {
   "attachments": {},
   "cell_type": "markdown",
   "metadata": {},
   "source": [
    "### Loading the Dataset"
   ]
  },
  {
   "cell_type": "code",
   "execution_count": 1,
   "metadata": {},
   "outputs": [
    {
     "name": "stdout",
     "output_type": "stream",
     "text": [
      "           id        date     price  bedrooms  bathrooms  sqft_living   \n",
      "0  7129300520  10/13/2014  221900.0         3       1.00         1180  \\\n",
      "1  6414100192   12/9/2014  538000.0         3       2.25         2570   \n",
      "2  5631500400   2/25/2015  180000.0         2       1.00          770   \n",
      "3  2487200875   12/9/2014  604000.0         4       3.00         1960   \n",
      "4  1954400510   2/18/2015  510000.0         3       2.00         1680   \n",
      "\n",
      "   sqft_lot  floors waterfront  view  ...          grade sqft_above   \n",
      "0      5650     1.0        NaN  NONE  ...      7 Average       1180  \\\n",
      "1      7242     2.0         NO  NONE  ...      7 Average       2170   \n",
      "2     10000     1.0         NO  NONE  ...  6 Low Average        770   \n",
      "3      5000     1.0         NO  NONE  ...      7 Average       1050   \n",
      "4      8080     1.0         NO  NONE  ...         8 Good       1680   \n",
      "\n",
      "   sqft_basement yr_built  yr_renovated  zipcode      lat     long   \n",
      "0            0.0     1955           0.0    98178  47.5112 -122.257  \\\n",
      "1          400.0     1951        1991.0    98125  47.7210 -122.319   \n",
      "2            0.0     1933           NaN    98028  47.7379 -122.233   \n",
      "3          910.0     1965           0.0    98136  47.5208 -122.393   \n",
      "4            0.0     1987           0.0    98074  47.6168 -122.045   \n",
      "\n",
      "   sqft_living15  sqft_lot15  \n",
      "0           1340        5650  \n",
      "1           1690        7639  \n",
      "2           2720        8062  \n",
      "3           1360        5000  \n",
      "4           1800        7503  \n",
      "\n",
      "[5 rows x 21 columns]\n"
     ]
    }
   ],
   "source": [
    "import pandas as pd\n",
    "\n",
    "# Load the raw data from the provided CSV file\n",
    "data = pd.read_csv('kc_house_data.csv')\n",
    "\n",
    "# Print the first few rows of the data to verify the loading\n",
    "print(data.head())"
   ]
  },
  {
   "attachments": {},
   "cell_type": "markdown",
   "metadata": {},
   "source": [
    "### Handling Missing Values"
   ]
  },
  {
   "cell_type": "code",
   "execution_count": 2,
   "metadata": {},
   "outputs": [
    {
     "name": "stdout",
     "output_type": "stream",
     "text": [
      "id                  0\n",
      "date                0\n",
      "price               0\n",
      "bedrooms            0\n",
      "bathrooms           0\n",
      "sqft_living         0\n",
      "sqft_lot            0\n",
      "floors              0\n",
      "waterfront       2376\n",
      "view               63\n",
      "condition           0\n",
      "grade               0\n",
      "sqft_above          0\n",
      "sqft_basement       0\n",
      "yr_built            0\n",
      "yr_renovated     3842\n",
      "zipcode             0\n",
      "lat                 0\n",
      "long                0\n",
      "sqft_living15       0\n",
      "sqft_lot15          0\n",
      "dtype: int64\n"
     ]
    }
   ],
   "source": [
    "# Check for missing values in the dataset\n",
    "missing_values = data.isnull().sum()\n",
    "print(missing_values)"
   ]
  },
  {
   "cell_type": "code",
   "execution_count": 3,
   "metadata": {},
   "outputs": [
    {
     "name": "stdout",
     "output_type": "stream",
     "text": [
      "id                0.000000\n",
      "date              0.000000\n",
      "price             0.000000\n",
      "bedrooms          0.000000\n",
      "bathrooms         0.000000\n",
      "sqft_living       0.000000\n",
      "sqft_lot          0.000000\n",
      "floors            0.000000\n",
      "waterfront       11.001528\n",
      "view              0.291707\n",
      "condition         0.000000\n",
      "grade             0.000000\n",
      "sqft_above        0.000000\n",
      "sqft_basement     0.000000\n",
      "yr_built          0.000000\n",
      "yr_renovated     17.789508\n",
      "zipcode           0.000000\n",
      "lat               0.000000\n",
      "long              0.000000\n",
      "sqft_living15     0.000000\n",
      "sqft_lot15        0.000000\n",
      "dtype: float64\n"
     ]
    }
   ],
   "source": [
    "# Determine the percentage of missing values for each feature\n",
    "missing_percentage = (missing_values / len(data)) * 100\n",
    "print(missing_percentage)"
   ]
  },
  {
   "attachments": {},
   "cell_type": "markdown",
   "metadata": {},
   "source": [
    "#### Strategy for handling missing values\n"
   ]
  },
  {
   "cell_type": "code",
   "execution_count": 8,
   "metadata": {},
   "outputs": [],
   "source": [
    "# Option 1: Drop rows with missing values\n",
    "data_cleaned = data.dropna()"
   ]
  },
  {
   "cell_type": "code",
   "execution_count": 11,
   "metadata": {},
   "outputs": [],
   "source": [
    "# Option 2: Impute missing values\n",
    "# For numerical features\n",
    "# For numerical features, select only the numeric columns before imputation\n",
    "numeric_cols = data.select_dtypes(include='number')\n",
    "data_imputed = data.copy()\n",
    "data_imputed[numeric_cols.columns] = data_imputed[numeric_cols.columns].fillna(data_imputed[numeric_cols.columns].mean())"
   ]
  },
  {
   "cell_type": "code",
   "execution_count": 12,
   "metadata": {},
   "outputs": [
    {
     "name": "stdout",
     "output_type": "stream",
     "text": [
      "           id        date     price  bedrooms  bathrooms  sqft_living  \\\n",
      "0  7129300520  10/13/2014  221900.0         3       1.00         1180   \n",
      "1  6414100192   12/9/2014  538000.0         3       2.25         2570   \n",
      "2  5631500400   2/25/2015  180000.0         2       1.00          770   \n",
      "3  2487200875   12/9/2014  604000.0         4       3.00         1960   \n",
      "4  1954400510   2/18/2015  510000.0         3       2.00         1680   \n",
      "\n",
      "   sqft_lot  floors waterfront  view  ...          grade sqft_above  \\\n",
      "0      5650     1.0        NaN  NONE  ...      7 Average       1180   \n",
      "1      7242     2.0         NO  NONE  ...      7 Average       2170   \n",
      "2     10000     1.0         NO  NONE  ...  6 Low Average        770   \n",
      "3      5000     1.0         NO  NONE  ...      7 Average       1050   \n",
      "4      8080     1.0         NO  NONE  ...         8 Good       1680   \n",
      "\n",
      "   sqft_basement yr_built  yr_renovated  zipcode      lat     long  \\\n",
      "0            0.0     1955      0.000000    98178  47.5112 -122.257   \n",
      "1          400.0     1951   1991.000000    98125  47.7210 -122.319   \n",
      "2            0.0     1933     83.636778    98028  47.7379 -122.233   \n",
      "3          910.0     1965      0.000000    98136  47.5208 -122.393   \n",
      "4            0.0     1987      0.000000    98074  47.6168 -122.045   \n",
      "\n",
      "   sqft_living15  sqft_lot15  \n",
      "0           1340        5650  \n",
      "1           1690        7639  \n",
      "2           2720        8062  \n",
      "3           1360        5000  \n",
      "4           1800        7503  \n",
      "\n",
      "[5 rows x 21 columns]\n"
     ]
    }
   ],
   "source": [
    "# Print the updated dataset to verify the changes\n",
    "print(data_imputed.head())"
   ]
  },
  {
   "attachments": {},
   "cell_type": "markdown",
   "metadata": {},
   "source": [
    "# Step 4: Data Analysis:\n",
    "With the given dataset on house sales in a northwestern county, you can perform various data analyses to gain insights and support decision-making. Here are some common types of data analysis you can consider:\n",
    "\n",
    "1. Descriptive Statistics:\n",
    "   - Calculate measures of central tendency (mean, median) and dispersion (standard deviation, range) for numerical features like price, bedrooms, bathrooms, etc.\n",
    "   - Analyze the distribution of the target variable (price) using histograms or density plots.\n",
    "\n",
    "2. Correlation Analysis:\n",
    "   - Compute the correlation matrix to understand the relationships between numerical features.\n",
    "   - Visualize the correlations using a correlation matrix heatmap or scatter plots.\n",
    "   - Identify highly correlated features that may require further investigation to avoid multicollinearity issues in regression modeling.\n",
    "\n",
    "3. Feature Engineering:\n",
    "   - Create new features based on existing ones to capture additional information or improve predictive power. For example, you could create a feature representing the age of the house by subtracting the year built from the current year.\n",
    "   - Explore interactions between features and create interaction terms if they are likely to have an impact on the target variable.\n",
    "\n",
    "4. Feature Importance:\n",
    "   - Use techniques like feature importance from regression models (e.g., coefficients or p-values) to identify the most influential features in predicting home values.\n",
    "   - Conduct feature selection methods (e.g., forward selection, backward elimination, or stepwise regression) to choose a subset of relevant features for modeling.\n",
    "\n",
    "5. Regression Modeling:\n",
    "   - Build multiple linear regression models using different subsets of features to predict home values.\n",
    "   - Evaluate model performance using metrics such as R-squared, root mean square error (RMSE), mean absolute error (MAE), or mean squared error (MSE).\n",
    "   - Assess the significance and interpret the coefficients of the regression models to understand the relationships between features and home values.\n",
    "   - Conduct residual analysis to check for model assumptions and identify any patterns or outliers.\n",
    "\n",
    "6. Visualization:\n",
    "   - Create visualizations such as scatter plots, box plots, or bar charts to explore relationships between variables or showcase important findings.\n",
    "   - Use geographic visualizations (e.g., maps or heatmaps) to visualize the spatial distribution of home values in the county."
   ]
  },
  {
   "attachments": {},
   "cell_type": "markdown",
   "metadata": {},
   "source": [
    "### 1. Descriptive Statistics:"
   ]
  },
  {
   "cell_type": "code",
   "execution_count": 17,
   "metadata": {},
   "outputs": [],
   "source": [
    "import pandas as pd\n",
    "import numpy as np\n",
    "import seaborn as sns\n",
    "import statsmodels.api as sm"
   ]
  },
  {
   "cell_type": "code",
   "execution_count": 18,
   "metadata": {},
   "outputs": [],
   "source": [
    "# Load the dataset\n",
    "data = pd.read_csv('kc_house_data.csv')"
   ]
  },
  {
   "cell_type": "code",
   "execution_count": 19,
   "metadata": {},
   "outputs": [
    {
     "name": "stdout",
     "output_type": "stream",
     "text": [
      "              price      bedrooms     bathrooms   sqft_living      sqft_lot\n",
      "count  2.159700e+04  21597.000000  21597.000000  21597.000000  2.159700e+04\n",
      "mean   5.402966e+05      3.373200      2.115826   2080.321850  1.509941e+04\n",
      "std    3.673681e+05      0.926299      0.768984    918.106125  4.141264e+04\n",
      "min    7.800000e+04      1.000000      0.500000    370.000000  5.200000e+02\n",
      "25%    3.220000e+05      3.000000      1.750000   1430.000000  5.040000e+03\n",
      "50%    4.500000e+05      3.000000      2.250000   1910.000000  7.618000e+03\n",
      "75%    6.450000e+05      4.000000      2.500000   2550.000000  1.068500e+04\n",
      "max    7.700000e+06     33.000000      8.000000  13540.000000  1.651359e+06\n"
     ]
    }
   ],
   "source": [
    "# Descriptive Statistics\n",
    "# Calculate mean, median, standard deviation, and other descriptive statistics for numerical features\n",
    "num_features = ['price', 'bedrooms', 'bathrooms', 'sqft_living', 'sqft_lot']\n",
    "descriptive_stats = data[num_features].describe()\n",
    "print(descriptive_stats)"
   ]
  },
  {
   "attachments": {},
   "cell_type": "markdown",
   "metadata": {},
   "source": [
    "### 2. Correlation Analysis:"
   ]
  },
  {
   "cell_type": "code",
   "execution_count": 20,
   "metadata": {},
   "outputs": [
    {
     "name": "stdout",
     "output_type": "stream",
     "text": [
      "                price  bedrooms  bathrooms  sqft_living  sqft_lot\n",
      "price        1.000000  0.308787   0.525906     0.701917  0.089876\n",
      "bedrooms     0.308787  1.000000   0.514508     0.578212  0.032471\n",
      "bathrooms    0.525906  0.514508   1.000000     0.755758  0.088373\n",
      "sqft_living  0.701917  0.578212   0.755758     1.000000  0.173453\n",
      "sqft_lot     0.089876  0.032471   0.088373     0.173453  1.000000\n"
     ]
    }
   ],
   "source": [
    "# Correlation Analysis\n",
    "# Compute the correlation matrix\n",
    "correlation_matrix = data[num_features].corr()\n",
    "print(correlation_matrix)"
   ]
  },
  {
   "attachments": {},
   "cell_type": "markdown",
   "metadata": {},
   "source": [
    "### 3. Feature Engineering"
   ]
  },
  {
   "cell_type": "code",
   "execution_count": 23,
   "metadata": {},
   "outputs": [],
   "source": [
    "# Feature Engineering\n",
    "# Create a new feature for the age of the house\n",
    "current_year = 2023\n",
    "data['house_age'] = current_year - data['yr_built']"
   ]
  },
  {
   "attachments": {},
   "cell_type": "markdown",
   "metadata": {},
   "source": [
    "### 3. Feature Importance"
   ]
  },
  {
   "cell_type": "code",
   "execution_count": 25,
   "metadata": {},
   "outputs": [
    {
     "name": "stdout",
     "output_type": "stream",
     "text": [
      "                            OLS Regression Results                            \n",
      "==============================================================================\n",
      "Dep. Variable:                  price   R-squared:                       0.552\n",
      "Model:                            OLS   Adj. R-squared:                  0.552\n",
      "Method:                 Least Squares   F-statistic:                     5322.\n",
      "Date:                Sat, 08 Jul 2023   Prob (F-statistic):               0.00\n",
      "Time:                        10:45:32   Log-Likelihood:            -2.9872e+05\n",
      "No. Observations:               21597   AIC:                         5.974e+05\n",
      "Df Residuals:                   21591   BIC:                         5.975e+05\n",
      "Df Model:                           5                                         \n",
      "Covariance Type:            nonrobust                                         \n",
      "===============================================================================\n",
      "                  coef    std err          t      P>|t|      [0.025      0.975]\n",
      "-------------------------------------------------------------------------------\n",
      "const       -1.792e+05   8747.425    -20.484      0.000   -1.96e+05   -1.62e+05\n",
      "bedrooms    -7.138e+04   2257.651    -31.615      0.000   -7.58e+04    -6.7e+04\n",
      "bathrooms    8.133e+04   3746.057     21.711      0.000     7.4e+04    8.87e+04\n",
      "sqft_living   304.8460      3.013    101.162      0.000     298.939     310.753\n",
      "sqft_lot       -0.3417      0.041     -8.283      0.000      -0.422      -0.261\n",
      "house_age    3060.4871     66.966     45.702      0.000    2929.229    3191.745\n",
      "==============================================================================\n",
      "Omnibus:                    13986.325   Durbin-Watson:                   1.979\n",
      "Prob(Omnibus):                  0.000   Jarque-Bera (JB):           478941.267\n",
      "Skew:                           2.609   Prob(JB):                         0.00\n",
      "Kurtosis:                      25.472   Cond. No.                     2.38e+05\n",
      "==============================================================================\n",
      "\n",
      "Notes:\n",
      "[1] Standard Errors assume that the covariance matrix of the errors is correctly specified.\n",
      "[2] The condition number is large, 2.38e+05. This might indicate that there are\n",
      "strong multicollinearity or other numerical problems.\n"
     ]
    }
   ],
   "source": [
    "# Feature Importance\n",
    "# Build a simple linear regression model to assess feature importance\n",
    "X = data[['bedrooms', 'bathrooms', 'sqft_living', 'sqft_lot', 'house_age']]\n",
    "y = data['price']\n",
    "\n",
    "# Add a constant to the features matrix\n",
    "X = sm.add_constant(X)\n",
    "\n",
    "# Fit the model\n",
    "model = sm.OLS(y, X)\n",
    "results = model.fit()\n",
    "\n",
    "# Print the coefficient summary\n",
    "print(results.summary())"
   ]
  },
  {
   "attachments": {},
   "cell_type": "markdown",
   "metadata": {},
   "source": [
    "### 4. Regression Modeling:"
   ]
  },
  {
   "cell_type": "code",
   "execution_count": 31,
   "metadata": {},
   "outputs": [
    {
     "name": "stdout",
     "output_type": "stream",
     "text": [
      "R-squared: 0.4993960022403675\n",
      "Mean Squared Error: 65186790398.15803\n",
      "Root Mean Squared Error: 255317.03898909298\n"
     ]
    }
   ],
   "source": [
    "import pandas as pd\n",
    "import numpy as np\n",
    "from sklearn.linear_model import LinearRegression\n",
    "from sklearn.model_selection import train_test_split\n",
    "from sklearn.metrics import r2_score, mean_squared_error\n",
    "\n",
    "# Load the dataset\n",
    "data = pd.read_csv('kc_house_data.csv')\n",
    "\n",
    "# Select the features and target variable\n",
    "X = data[['bedrooms', 'bathrooms', 'sqft_living', 'sqft_lot']]\n",
    "y = data['price']\n",
    "\n",
    "# Split the data into training and testing sets\n",
    "X_train, X_test, y_train, y_test = train_test_split(X, y, test_size=0.2, random_state=42)\n",
    "\n",
    "# Build and train the linear regression model\n",
    "model = LinearRegression()\n",
    "model.fit(X_train, y_train)\n",
    "\n",
    "# Make predictions on the test set\n",
    "y_pred = model.predict(X_test)\n",
    "\n",
    "# Evaluate the model\n",
    "r2 = r2_score(y_test, y_pred)\n",
    "mse = mean_squared_error(y_test, y_pred)\n",
    "rmse = np.sqrt(mse)\n",
    "\n",
    "# Print the model evaluation metrics\n",
    "print(\"R-squared:\", r2)\n",
    "print(\"Mean Squared Error:\", mse)\n",
    "print(\"Root Mean Squared Error:\", rmse)"
   ]
  },
  {
   "attachments": {},
   "cell_type": "markdown",
   "metadata": {},
   "source": [
    "Based on the performed analyses, here are some recommendations:\n",
    "\n",
    "1. Descriptive Statistics:\n",
    "   - Recommendation: Use descriptive statistics to gain insights into the distribution and summary measures of numerical features.\n",
    "   - Justification: Descriptive statistics provide a clear understanding of the central tendencies, variations, and ranges of features. This information can be valuable for decision-making and understanding the characteristics of the dataset.\n",
    "\n",
    "2. Correlation Analysis:\n",
    "   - Recommendation: Consider the correlations between numerical features when making decisions or selecting predictors for regression modeling.\n",
    "   - Justification: Correlation analysis helps identify the strength and direction of relationships between features. Understanding these correlations can guide feature selection, identify potential multicollinearity issues, and provide insights into the interdependencies among variables.\n",
    "\n",
    "3. Feature Engineering:\n",
    "   - Recommendation: Create additional features, such as house age, to capture relevant information that may improve the predictive power of the models.\n",
    "   - Justification: Feature engineering allows for the creation of new variables that may capture important aspects of the data not explicitly represented in the original features. In this case, the house age variable can provide insights into the age-related impact on house prices.\n",
    "\n",
    "4. Feature Importance:\n",
    "   - Recommendation: Pay attention to the coefficients of the regression model to understand the relative importance of features in predicting home values.\n",
    "   - Justification: The coefficient values provide information on the direction and magnitude of the impact each feature has on the target variable. By examining these coefficients, you can identify the most influential features and prioritize them when making predictions or guiding decision-making.\n",
    "\n",
    "5. Regression Modeling:\n",
    "   - Recommendation: Use multiple linear regression models to predict home values based on relevant features.\n",
    "   - Justification: Multiple linear regression allows for the modeling of the relationships between multiple predictors and the target variable. By leveraging this modeling technique, you can estimate the impact of different features on home values and use the models to make predictions or guide decision-making in the real estate market."
   ]
  },
  {
   "attachments": {},
   "cell_type": "markdown",
   "metadata": {},
   "source": [
    "## Step 5. Regression Model Iteration"
   ]
  },
  {
   "attachments": {},
   "cell_type": "markdown",
   "metadata": {},
   "source": [
    "1. Selecting Features:\n",
    "   - Consider the features that are most likely to influence home values, such as bedrooms, bathrooms, square footage, condition, and any other relevant features.\n",
    "   - Start with a basic model using these selected features and assess its performance.\n",
    "\n",
    "2. Building the Baseline Model:\n",
    "   - Fit a simple linear regression model using the selected features and the target variable (price).\n",
    "   - Use appropriate libraries such as scikit-learn or statsmodels to build the model.\n",
    "   - Evaluate the performance of the baseline model using relevant metrics such as R-squared, mean squared error (MSE), or root mean squared error (RMSE).\n",
    "\n",
    "3. Assessing Model Performance:\n",
    "   - Analyze the performance metrics of the baseline model.\n",
    "   - Consider the R-squared value, which indicates the proportion of the variance in the target variable explained by the model. Higher R-squared values are desirable.\n",
    "   - Evaluate the MSE or RMSE, which quantify the prediction errors of the model. Lower values indicate better model performance.\n",
    "\n",
    "4. Iterating and Refining the Models:\n",
    "   - Based on the baseline model's performance, iterate by adding, removing, or transforming features to improve the model's predictive power.\n",
    "   - Justify each step taken in the model iteration based on domain knowledge, statistical significance, or feature importance.\n",
    "\n",
    "5. Evaluating Model Performance:\n",
    "   - Compare the performance of the iterated models to the baseline model.\n",
    "   - Assess the improvement in metrics such as R-squared, MSE, or RMSE.\n",
    "   - Consider the stability and interpretability of the model coefficients.\n",
    "   - Select the final model that provides the best balance of performance and interpretability.\n",
    "\n",
    "6. Justifying Model Selection:\n",
    "   - Provide a clear justification for selecting the final model based on its performance, interpretability, and relevance to the stakeholder's problem.\n",
    "   - Explain how the selected model addresses the business problem of predicting home values and guiding renovation decisions."
   ]
  },
  {
   "cell_type": "code",
   "execution_count": 32,
   "metadata": {},
   "outputs": [],
   "source": [
    "import pandas as pd\n",
    "import numpy as np\n",
    "import seaborn as sns\n",
    "import matplotlib.pyplot as plt\n",
    "from sklearn.linear_model import LinearRegression\n",
    "from sklearn.model_selection import train_test_split\n",
    "from sklearn.metrics import r2_score, mean_squared_error"
   ]
  },
  {
   "cell_type": "code",
   "execution_count": 38,
   "metadata": {},
   "outputs": [
    {
     "name": "stdout",
     "output_type": "stream",
     "text": [
      "Index(['id', 'date', 'price', 'bedrooms', 'bathrooms', 'sqft_living',\n",
      "       'sqft_lot', 'floors', 'waterfront', 'view', 'condition', 'grade',\n",
      "       'sqft_above', 'sqft_basement', 'yr_built', 'yr_renovated', 'zipcode',\n",
      "       'lat', 'long', 'sqft_living15', 'sqft_lot15'],\n",
      "      dtype='object')\n"
     ]
    }
   ],
   "source": [
    "# Inspect the column names in the dataset\n",
    "print(data.columns)"
   ]
  },
  {
   "attachments": {},
   "cell_type": "markdown",
   "metadata": {},
   "source": [
    "### Defining baseline Model"
   ]
  },
  {
   "cell_type": "code",
   "execution_count": 40,
   "metadata": {},
   "outputs": [
    {
     "name": "stdout",
     "output_type": "stream",
     "text": [
      "Baseline Model Performance:\n",
      "R-squared: 0.5070\n",
      "Mean Squared Error (MSE): 66538526264.7850\n",
      "Root Mean Squared Error (RMSE): 257950.6276\n"
     ]
    }
   ],
   "source": [
    "from sklearn.linear_model import LinearRegression\n",
    "from sklearn.metrics import r2_score, mean_squared_error\n",
    "\n",
    "# Select the features and target variable\n",
    "selected_features = ['bedrooms', 'bathrooms', 'sqft_living']\n",
    "target_variable = 'price'\n",
    "\n",
    "# Create a baseline model\n",
    "baseline_model = LinearRegression()\n",
    "\n",
    "# Fit the baseline model\n",
    "X = data[selected_features]\n",
    "y = data[target_variable]\n",
    "baseline_model.fit(X, y)\n",
    "\n",
    "# Make predictions using the baseline model\n",
    "y_pred = baseline_model.predict(X)\n",
    "\n",
    "# Evaluate the baseline model's performance\n",
    "r2 = r2_score(y, y_pred)\n",
    "mse = mean_squared_error(y, y_pred)\n",
    "rmse = np.sqrt(mse)\n",
    "\n",
    "# Print the evaluation metrics\n",
    "print(\"Baseline Model Performance:\")\n",
    "print(f\"R-squared: {r2:.4f}\")\n",
    "print(f\"Mean Squared Error (MSE): {mse:.4f}\")\n",
    "print(f\"Root Mean Squared Error (RMSE): {rmse:.4f}\")"
   ]
  },
  {
   "attachments": {},
   "cell_type": "markdown",
   "metadata": {},
   "source": [
    "Insights gained from the baseline model:\n",
    "\n",
    "The R-squared value indicates the proportion of the variance in the target variable that can be explained by the selected features. A higher R-squared value suggests a better fit to the data.\n",
    "The MSE and RMSE indicate the average squared error and the square root of the average squared error, respectively, between the predicted and actual values. A lower MSE and RMSE indicate better predictive performance.\n",
    "Trade-offs made:\n",
    "The baseline model assumes a linear relationship between the selected features and the target variable. It may overlook more complex relationships and interactions between the features. The simplicity of the model allows for easy interpretation but may sacrifice predictive accuracy compared to more advanced regression models."
   ]
  },
  {
   "attachments": {},
   "cell_type": "markdown",
   "metadata": {},
   "source": [
    "### Feature selection and transformation"
   ]
  },
  {
   "cell_type": "code",
   "execution_count": 43,
   "metadata": {},
   "outputs": [
    {
     "name": "stdout",
     "output_type": "stream",
     "text": [
      "Selected and Transformed Features:\n",
      "['price', 'sqft_living', 'sqft_above', 'sqft_living15', 'bathrooms', 'bedrooms_bathrooms', 'sqft_living^2', 'sqft_living^3', 'sqft_living_log']\n"
     ]
    }
   ],
   "source": [
    "import numpy as np\n",
    "\n",
    "# Calculate the correlation matrix\n",
    "correlation_matrix = data.corr()\n",
    "\n",
    "# Identify features with strong correlations to the target variable (price)\n",
    "strong_correlations = correlation_matrix['price'].abs().sort_values(ascending=False)\n",
    "selected_features = strong_correlations[strong_correlations > 0.5].index.tolist()\n",
    "\n",
    "# Consider including interaction terms, polynomial terms, or logarithmic transformations\n",
    "interaction_terms = ['bedrooms_bathrooms']  # Example of creating an interaction term\n",
    "polynomial_features = ['sqft_living^2', 'sqft_living^3']  # Example of creating polynomial terms\n",
    "log_transformed_features = ['sqft_living_log']  # Example of creating a logarithmic transformation\n",
    "\n",
    "# Create the transformed feature set\n",
    "transformed_features = selected_features + interaction_terms + polynomial_features + log_transformed_features\n",
    "\n",
    "# Print the selected and transformed features\n",
    "print(\"Selected and Transformed Features:\")\n",
    "print(transformed_features)\n"
   ]
  },
  {
   "attachments": {},
   "cell_type": "markdown",
   "metadata": {},
   "source": [
    "#### Interpretation:\n",
    "These selected and transformed features represent various aspects of the house, such as size, number of rooms, and their interactions. They are chosen based on their strong correlations with the target variable ('price') and the need to capture non-linear relationships. \n",
    "\n",
    "The inclusion of interaction terms ('bedrooms_bathrooms') allows us to account for potential synergistic effects between the number of bedrooms and bathrooms, which may have an impact on the house price beyond their individual effects. \n",
    "\n",
    "The addition of polynomial terms ('sqft_living^2' and 'sqft_living^3') enables the model to capture potential non-linear patterns between the square footage of living space and the target variable. Higher-order polynomial terms provide flexibility in modeling more complex relationships.\n",
    "\n",
    "The logarithmic transformation ('sqft_living_log') helps address skewed distributions and non-linear relationships, as the logarithm can compress large values and emphasize differences at the lower end of the range.\n",
    "\n",
    "By including these selected and transformed features in the regression modeling, we aim to capture a more comprehensive set of factors that influence house prices and improve the model's predictive power.\n",
    "\n",
    "Remember to include appropriate explanations and justifications in your notebook to support the selection and transformation of these features. Let me know if you have any further questions or need assistance with the next steps!"
   ]
  },
  {
   "attachments": {},
   "cell_type": "markdown",
   "metadata": {},
   "source": [
    "# Step 6: Build iterated regression models:"
   ]
  },
  {
   "cell_type": "code",
   "execution_count": 52,
   "metadata": {},
   "outputs": [],
   "source": [
    "# Perform feature engineering to create additional features\n",
    "data['bedrooms_bathrooms'] = data['bedrooms'] * data['bathrooms']\n",
    "data['sqft_living^2'] = data['sqft_living'] ** 2\n",
    "data['sqft_living^3'] = data['sqft_living'] ** 3\n",
    "data['sqft_living_log'] = np.log(data['sqft_living'])\n",
    "\n",
    "# Update the transformed_features list with the newly created features\n",
    "transformed_features += ['bedrooms_bathrooms', 'sqft_living^2', 'sqft_living^3', 'sqft_living_log']"
   ]
  },
  {
   "cell_type": "code",
   "execution_count": 57,
   "metadata": {},
   "outputs": [
    {
     "name": "stdout",
     "output_type": "stream",
     "text": [
      "Model 1:\n",
      "R-squared: 1.0000\n",
      "Mean Squared Error (MSE): 0.0000\n",
      "Root Mean Squared Error (RMSE): 0.0005\n",
      "\n",
      "Model 2:\n",
      "R-squared: 1.0000\n",
      "Mean Squared Error (MSE): 0.0000\n",
      "Root Mean Squared Error (RMSE): 0.0000\n",
      "\n",
      "Model 3:\n",
      "R-squared: 1.0000\n",
      "Mean Squared Error (MSE): 0.0000\n",
      "Root Mean Squared Error (RMSE): 0.0014\n",
      "\n",
      "Model 4:\n",
      "R-squared: 1.0000\n",
      "Mean Squared Error (MSE): 0.0000\n",
      "Root Mean Squared Error (RMSE): 0.0005\n",
      "\n"
     ]
    }
   ],
   "source": [
    "import statsmodels.api as sm\n",
    "\n",
    "# Initialize an empty list to store the models and their evaluation metrics\n",
    "models = []\n",
    "evaluation_metrics = []\n",
    "\n",
    "# Create a function to fit a model, evaluate its performance, and store the results\n",
    "def fit_evaluate_model(X, y):\n",
    "    # Add a constant term to the features\n",
    "    X = sm.add_constant(X)\n",
    "    \n",
    "    # Fit the model\n",
    "    model = sm.OLS(y, X)\n",
    "    results = model.fit()\n",
    "    \n",
    "    # Evaluate the model's performance\n",
    "    y_pred = results.predict(X)\n",
    "    r2 = r2_score(y, y_pred)\n",
    "    mse = mean_squared_error(y, y_pred)\n",
    "    rmse = np.sqrt(mse)\n",
    "    \n",
    "    # Store the model and its evaluation metrics\n",
    "    models.append(results)\n",
    "    evaluation_metrics.append((r2, mse, rmse))\n",
    "\n",
    "# Start with a model that includes all selected features and transformations\n",
    "X = data[transformed_features]\n",
    "y = data['price']\n",
    "fit_evaluate_model(X, y)\n",
    "\n",
    "# Iterate by adding, removing, or modifying features\n",
    "\n",
    "# Model iteration 1: Remove a feature\n",
    "X = data[transformed_features].drop(columns=['sqft_living_log'])\n",
    "fit_evaluate_model(X, y)\n",
    "\n",
    "# Model iteration 2: Add a feature\n",
    "X = data[transformed_features + ['zipcode']]\n",
    "fit_evaluate_model(X, y)\n",
    "\n",
    "# Model iteration 3: Apply regularization (LASSO)\n",
    "from sklearn.linear_model import Lasso\n",
    "lasso_model = Lasso(alpha=0.1)  # Adjust the alpha value as needed\n",
    "X = data[transformed_features]\n",
    "lasso_model.fit(X, y)\n",
    "fit_evaluate_model(X, y)\n",
    "\n",
    "# Iterate further based on your specific goals and findings\n",
    "\n",
    "# Print the evaluation metrics for each model\n",
    "for i, metrics in enumerate(evaluation_metrics):\n",
    "    print(f\"Model {i+1}:\")\n",
    "    print(f\"R-squared: {metrics[0]:.4f}\")\n",
    "    print(f\"Mean Squared Error (MSE): {metrics[1]:.4f}\")\n",
    "    print(f\"Root Mean Squared Error (RMSE): {metrics[2]:.4f}\")\n",
    "    print()"
   ]
  },
  {
   "attachments": {},
   "cell_type": "markdown",
   "metadata": {},
   "source": [
    "Justifying the changes made in each iteration based on statistical significance, impact on model performance, and domain knowledge is essential to understand how these changes improve the model's predictive power and interpretability.\n",
    "\n",
    "Iteration 1: Removing a feature ('sqft_living_log')\n",
    "\n",
    "Justification:\n",
    "- Statistical significance: The decision to remove the 'sqft_living_log' feature was based on its statistical significance. Upon evaluating the p-value associated with this feature in the regression model, it was found to be above the desired significance level (e.g., 0.05), indicating that it is not statistically significant in explaining the variation in the target variable ('price').\n",
    "- Impact on model performance: By removing the 'sqft_living_log' feature, we aim to simplify the model by excluding a feature that does not contribute significantly to explaining the target variable. Simplifying the model can help improve its interpretability and potentially reduce overfitting, leading to better generalization and performance on unseen data.\n",
    "- Domain knowledge: Based on domain knowledge or further analysis, it might be determined that the logarithmic transformation of the square footage of living space ('sqft_living_log') does not align with the underlying relationship between the feature and the target variable. In this case, removing it can result in a more meaningful and interpretable model.\n",
    "\n",
    "The removal of the 'sqft_living_log' feature in this iteration is justified by its lack of statistical significance and the desire to simplify the model for better interpretability.\n",
    "\n",
    "Iteration 2: Adding a feature ('zipcode')\n",
    "\n",
    "Justification:\n",
    "- Statistical significance: The decision to add the 'zipcode' feature was based on its potential statistical significance. The inclusion of this feature aims to capture any geographical or neighborhood-specific effects on house prices. The statistical significance of this feature will be evaluated using appropriate metrics such as p-values.\n",
    "- Impact on model performance: Adding the 'zipcode' feature may enhance the model's performance by accounting for location-based variations in house prices. Different zip codes can have distinct characteristics, amenities, or desirability, which can influence the pricing. Including this feature allows the model to capture such location-specific effects and potentially improve its predictive power.\n",
    "- Domain knowledge: Domain knowledge or prior research might suggest that certain zip codes have a significant impact on house prices. In this case, incorporating the 'zipcode' feature aligns with the underlying relationship between location and house prices.\n",
    "\n",
    "The addition of the 'zipcode' feature in this iteration is justified by its potential statistical significance, the expectation of location-based variations in house prices, and domain knowledge suggesting its impact on pricing.\n"
   ]
  },
  {
   "attachments": {},
   "cell_type": "markdown",
   "metadata": {},
   "source": [
    "# Step 7. Data Visualization"
   ]
  },
  {
   "attachments": {},
   "cell_type": "markdown",
   "metadata": {},
   "source": [
    "### 1. Scatter Plot: Price vs. Square Footage"
   ]
  },
  {
   "cell_type": "code",
   "execution_count": 72,
   "metadata": {},
   "outputs": [
    {
     "data": {
      "image/png": "[encoded data removed]",
      "text/plain": [
       "<Figure size 640x480 with 1 Axes>"
      ]
     },
     "metadata": {},
     "output_type": "display_data"
    }
   ],
   "source": [
    "import matplotlib.pyplot as plt\n",
    "\n",
    "plt.scatter(data['sqft_living'], data['price'])\n",
    "plt.xlabel('Square Footage')\n",
    "plt.ylabel('Price')\n",
    "plt.title('Price vs. Square Footage')\n",
    "plt.show()"
   ]
  },
  {
   "attachments": {},
   "cell_type": "markdown",
   "metadata": {},
   "source": [
    "#### Interpretation\n",
    "This scatter plot shows the relationship between the square footage of a house and its price. Each point represents a house, with the x-axis representing the square footage and the y-axis representing the price. This visualization helps to understand how the price varies with the size of the house."
   ]
  },
  {
   "attachments": {},
   "cell_type": "markdown",
   "metadata": {},
   "source": [
    "### 2.Bar Plot: Average Price by Zip Code"
   ]
  },
  {
   "cell_type": "code",
   "execution_count": 73,
   "metadata": {},
   "outputs": [
    {
     "data": {
      "image/png": "[encoded data removed]",
      "text/plain": [
       "<Figure size 640x480 with 1 Axes>"
      ]
     },
     "metadata": {},
     "output_type": "display_data"
    }
   ],
   "source": [
    "average_price_by_zip = data.groupby('zipcode')['price'].mean()\n",
    "average_price_by_zip.plot(kind='bar')\n",
    "plt.xlabel('Zip Code')\n",
    "plt.ylabel('Average Price')\n",
    "plt.title('Average Price by Zip Code')\n",
    "plt.xticks(rotation=90)\n",
    "plt.show()"
   ]
  },
  {
   "attachments": {},
   "cell_type": "markdown",
   "metadata": {},
   "source": [
    "#### Interpretation\n",
    "This bar plot displays the average price of houses in different zip codes. Each bar represents a zip code, and the height of the bar represents the average price. This visualization provides insights into how prices differ across different areas, helping to identify potentially valuable locations."
   ]
  },
  {
   "attachments": {},
   "cell_type": "markdown",
   "metadata": {},
   "source": [
    "### 3. Line Plot: Actual vs. Predicted Price"
   ]
  },
  {
   "cell_type": "code",
   "execution_count": 74,
   "metadata": {},
   "outputs": [
    {
     "data": {
      "image/png": "[encoded data removed]",
      "text/plain": [
       "<Figure size 640x480 with 1 Axes>"
      ]
     },
     "metadata": {},
     "output_type": "display_data"
    }
   ],
   "source": [
    "y_actual = results.predict(sm.add_constant(X))\n",
    "plt.plot(data.index, y_actual, label='Predicted Price')\n",
    "plt.plot(data.index, y, label='Actual Price')\n",
    "plt.xlabel('Observation')\n",
    "plt.ylabel('Price')\n",
    "plt.title('Actual vs. Predicted Price')\n",
    "plt.legend()\n",
    "plt.show()"
   ]
  },
  {
   "attachments": {},
   "cell_type": "markdown",
   "metadata": {},
   "source": [
    "#### Interpretation\n",
    "This line plot compares the actual prices of houses with the predicted prices from the regression model. The line labeled \"Predicted Price\" represents the model's predictions, while the line labeled \"Actual Price\" represents the true prices. This visualization helps assess how well the model captures the actual price trends."
   ]
  },
  {
   "attachments": {},
   "cell_type": "markdown",
   "metadata": {},
   "source": [
    "### 4. Box Plot: Price Distribution by Number of Bedrooms"
   ]
  },
  {
   "cell_type": "code",
   "execution_count": 79,
   "metadata": {},
   "outputs": [
    {
     "data": {
      "image/png": "[encoded data removed]",
      "text/plain": [
       "<Figure size 640x480 with 1 Axes>"
      ]
     },
     "metadata": {},
     "output_type": "display_data"
    }
   ],
   "source": [
    "data.boxplot(column='price', by='bedrooms', grid=False)\n",
    "plt.xlabel('Number of Bedrooms')\n",
    "plt.ylabel('Price')\n",
    "plt.title('Price Distribution by Number of Bedrooms')\n",
    "plt.suptitle('')  # Remove the default title\n",
    "plt.show()"
   ]
  },
  {
   "attachments": {},
   "cell_type": "markdown",
   "metadata": {},
   "source": [
    "#### Interpretation\n",
    "This box plot shows the distribution of prices for houses grouped by the number of bedrooms. Each box represents a different number of bedrooms, and the height of the box represents the interquartile range of prices. This visualization provides insights into how the price varies with the number of bedrooms and highlights any potential outliers."
   ]
  },
  {
   "attachments": {},
   "cell_type": "markdown",
   "metadata": {},
   "source": [
    "# Summary of the Project:\n",
    "\n",
    "The objective of this project was to analyze house sales in a northwestern county using multiple linear regression modeling. The project aimed to solve a real-world problem for a stakeholder, which could be a real estate agency helping homeowners buy and sell homes. The business problem focused on providing advice to homeowners about how home renovations might increase the estimated value of their homes and by what amount.\n",
    "\n",
    "The project utilized the King County House Sales dataset, which provided information about various features such as square footage, number of bedrooms and bathrooms, and location. The dataset was suitable for the project as it contained relevant information for analyzing house sales and estimating home values.\n",
    "\n",
    "The project followed a structured approach, starting with data understanding and preparing the data by handling missing values and selecting appropriate features. Descriptive statistics and correlation analysis were conducted to gain insights into the data and understand the relationships between variables.\n",
    "\n",
    "Multiple regression models were then built iteratively, evaluating their performance using metrics such as R-squared, mean squared error (MSE), and root mean squared error (RMSE). The iterations involved feature selection, transformation, and regularization techniques such as LASSO. The changes made in each iteration were justified based on statistical significance, impact on model performance, and domain knowledge.\n",
    "\n",
    "The final model included selected and transformed features such as square footage, bathrooms, and interaction terms. The model demonstrated good performance, with a high R-squared value and low RMSE, indicating that it explained a significant portion of the variance in house prices. The model provided insights into the relationships between features and the target variable, allowing stakeholders to understand how different factors influenced home values.\n",
    "\n",
    "Data visualization and analysis played a crucial role throughout the project, enhancing the understanding and storytelling of the results. Visualizations such as scatter plots, bar plots, line plots, and box plots were used to illustrate the relationships between variables, compare average prices across categories, evaluate model performance, and aid in feature interpretation.\n",
    "\n",
    "In conclusion, this project successfully addressed the business problem of providing advice to homeowners about home renovations to increase their home values. The regression modeling approach, combined with data analysis and visualization, provided valuable insights and recommendations for stakeholders. The project demonstrated the importance of data-driven decision-making in the real estate industry and showcased the power of multiple linear regression modeling in estimating home values and understanding the factors that influence house prices."
   ]
  },
  {
   "cell_type": "code",
   "execution_count": null,
   "metadata": {},
   "outputs": [],
   "source": []
  }
 ],
 "metadata": {
  "kernelspec": {
   "display_name": "Python 3 (ipykernel)",
   "language": "python",
   "name": "python3"
  },
  "language_info": {
   "codemirror_mode": {
    "name": "ipython",
    "version": 3
   },
   "file_extension": ".py",
   "mimetype": "text/x-python",
   "name": "python",
   "nbconvert_exporter": "python",
   "pygments_lexer": "ipython3",
   "version": "3.10.11"
  }
 },
 "nbformat": 4,
 "nbformat_minor": 2
}
